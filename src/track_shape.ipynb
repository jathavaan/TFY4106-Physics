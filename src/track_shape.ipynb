{
  "cells": [
    {
      "cell_type": "markdown",
      "metadata": {
        "id": "crY6YB7FlBIN"
      },
      "source": [
        "# Fysikklab TFY4106 og TFY4125 våren 2023.\n",
        "\n",
        "Denne notebooken genererer en berg-og-dal-bane basert på koordinatene til åtte festepunkter med tildels \n",
        "tilfeldig valgte høyder. Baneformen $y(x)$ beregnes med funksjonen __CubicSpline__ fra interpolate-biblioteket i SciPy. En naturlig kubisk spline $S$ består av ulike tredjegradspolynomer på deler av et intervall $[a,b]$, slik at $S$, $S' = dS/dx$ og $S'' = d^2S/dx^2$ er kontinuerlige på hele intervallet, og $S''(a) = S''(b) = 0$.    \n",
        "\n",
        "Dere skal deretter studere bevegelsen til ei lita kule som ruller på den genererte banen $y(x)$.\n",
        "Dette blir temmelig enkelt ettersom kulas mekaniske energi (dvs summen av kinetisk og potensiell energi) er bevart \n",
        "når den ruller rent (dvs uten å gli). \n",
        "\n",
        "Skruehøydene genereres innenfor visse rammer som sørger for at \n",
        "<li> kula kommer seg gjennom hele banen, </li> \n",
        "<li> banen hele veien har så liten helningsvinkel at kula ikke glir, </li>\n",
        "<li> banen faktisk er en berg-og-dal-bane, med både berg (bakketopp) og dal (bunnpunkt) underveis. </li>\n",
        "    \n",
        "Det holder å kjøre dette programmet en gang for å oppnå en tilfredsstillende bane.\n",
        "Når dere har gjort dette, er det viktig at dere skriver ned koordinatene til festepunktene! \n",
        "Disse blir generert på nytt hver gang koden blir kjørt. Husk at dere skal sette opp banen fysisk på neste labøkt. Derfor er det viktig å notere nødvendig informasjon.\n",
        "    "
      ]
    },
    {
      "cell_type": "markdown",
      "metadata": {
        "id": "nFo0yc29mD6M"
      },
      "source": [
        "Vi begynner med å importere noen nyttige bibliotek:"
      ]
    },
    {
      "cell_type": "code",
      "execution_count": 46,
      "metadata": {
        "id": "AqFawUiVl6kA"
      },
      "outputs": [],
      "source": [
        "import matplotlib.pyplot as plt\n",
        "import numpy as np\n",
        "from scipy.interpolate import CubicSpline"
      ]
    },
    {
      "cell_type": "markdown",
      "metadata": {
        "id": "KBcxwA4UmJ_y"
      },
      "source": [
        "Vi lager en (numpy-) array som inneholder x-koordinatene til festepunktene. \n",
        "Horisontal avstand mellom festepunktene er 200 mm."
      ]
    },
    {
      "cell_type": "code",
      "execution_count": 47,
      "metadata": {
        "id": "ISFJJUpBmNfx"
      },
      "outputs": [],
      "source": [
        "h = 200\n",
        "xfast = np.asarray([0, 1, 2, 3, 4, 5, 6, 7]) * h"
      ]
    },
    {
      "cell_type": "markdown",
      "metadata": {
        "id": "Te0qcrmFmWTh"
      },
      "source": [
        "Vi setter startposisjon xmin, sluttposisjon xmax og steglengde dx = 1 mm \n",
        "i x-retning. Deretter lager vi en array x med x-verdier fra 0 til 1400,\n",
        "dvs for hver mm fra xmin til xmax. Funksjonen arange returnerer verdier på det halvåpne intervallet [xmin,xmax), dvs slik at xmin er med mens xmax ikke er med. Her blir dermed x[0]=xmin=0, x[1]=xmin+1*dx=1, ..., x[1400]=xmax-dx=1400, dvs x blir en tabell med 1401 elementer"
      ]
    },
    {
      "cell_type": "code",
      "execution_count": 48,
      "metadata": {
        "id": "sgxwH4Ftmd8v"
      },
      "outputs": [],
      "source": [
        "xmin = 0\n",
        "xmax = 1401\n",
        "dx = 1\n",
        "x = np.arange(xmin, xmax, dx)"
      ]
    },
    {
      "cell_type": "markdown",
      "metadata": {
        "id": "kv2ct7SfmtGm"
      },
      "source": [
        "Vi lager deretter en array med høydekoordinatene til festepunktene. \n",
        "De \"tilfeldige\" høydeendringene fra skrue til skrue sørger for at banens\n",
        "starthøyde (300 mm) er banens høyeste punkt, og at den deretter går via\n",
        "en dal og en bakketopp, og noen ganger en ny dal før siste skrue."
      ]
    },
    {
      "cell_type": "code",
      "execution_count": 49,
      "metadata": {
        "collapsed": false
      },
      "outputs": [
        {
          "data": {
            "text/plain": [
              "'\\nyfast[0] = 300\\nyfast[1] = yfast[0] - np.random.randint(40, 60)\\nyfast[2] = yfast[1] - np.random.randint(70, 90)\\nyfast[3] = yfast[2] + np.random.randint(-30, 10)\\nyfast[4] = yfast[3] + np.random.randint(30, 70)\\nyfast[5] = yfast[4] + np.random.randint(-20, 20)\\nyfast[6] = yfast[5] - np.random.randint(40, 80)\\nyfast[7] = yfast[6] + np.random.randint(-40, 40)\\n'"
            ]
          },
          "execution_count": 49,
          "metadata": {},
          "output_type": "execute_result"
        }
      ],
      "source": [
        "#Skruehøyder:\n",
        "yfast = np.zeros(8)\n",
        "\"\"\"\n",
        "yfast[0] = 300\n",
        "yfast[1] = yfast[0] - np.random.randint(40, 60)\n",
        "yfast[2] = yfast[1] - np.random.randint(70, 90)\n",
        "yfast[3] = yfast[2] + np.random.randint(-30, 10)\n",
        "yfast[4] = yfast[3] + np.random.randint(30, 70)\n",
        "yfast[5] = yfast[4] + np.random.randint(-20, 20)\n",
        "yfast[6] = yfast[5] - np.random.randint(40, 80)\n",
        "yfast[7] = yfast[6] + np.random.randint(-40, 40)\n",
        "\"\"\""
      ]
    },
    {
      "cell_type": "code",
      "execution_count": 50,
      "metadata": {
        "collapsed": false
      },
      "outputs": [],
      "source": [
        "# Vår baneform\n",
        "yfast[0] = 300\n",
        "yfast[1] = 253\n",
        "yfast[2] = 172\n",
        "yfast[3] = 156\n",
        "yfast[4] = 222\n",
        "yfast[5] = 206\n",
        "yfast[6] = 144\n",
        "yfast[7] = 182"
      ]
    },
    {
      "cell_type": "markdown",
      "metadata": {
        "id": "VNQ7mHaznCQ5"
      },
      "source": [
        "Programmet beregner i neste omgang 7 tredjegradspolynomer, et for hvert intervall mellom to nabofestepunkter (naboskruer), med scipy.interpolate-funksjonen CubicSpline:"
      ]
    },
    {
      "cell_type": "code",
      "execution_count": 51,
      "metadata": {
        "id": "eU6gr2kJnVbg"
      },
      "outputs": [],
      "source": [
        "cs = CubicSpline(xfast, yfast, bc_type='natural')"
      ]
    },
    {
      "cell_type": "markdown",
      "metadata": {
        "id": "1zXB7-Q51vD3"
      },
      "source": [
        "Funksjonen cs kan nå brukes til å regne ut $y(x)$, $y'(x)$ og $y''(x)$ for en vilkårlig horisontal posisjon x, eller som her, for alle de 1401 horisontale\n",
        "posisjonene lagret i tabellen x. Funksjonen cs fungerer slik: <br>\n",
        "cs(x)   tilsvarer $y(x)$ <br>\n",
        "cs(x,1) tilsvarer $y'(x)$ <br>\n",
        "cs(x,2) tilsvarer $y''(x)$ <br>"
      ]
    },
    {
      "cell_type": "code",
      "execution_count": 52,
      "metadata": {
        "id": "r2oeceds1wLl"
      },
      "outputs": [],
      "source": [
        "y = cs(x)\n",
        "dy = cs(x, 1)\n",
        "d2y = cs(x, 2)"
      ]
    },
    {
      "cell_type": "markdown",
      "metadata": {
        "id": "RGuzfOQpoeqM"
      },
      "source": [
        "Nå kan vi plotte baneformen $y(x)$"
      ]
    },
    {
      "cell_type": "code",
      "execution_count": 53,
      "metadata": {
        "colab": {
          "base_uri": "https://localhost:8080/",
          "height": 415
        },
        "id": "YwenKb4ok0iB",
        "outputId": "946804ce-3756-4d92-e4ab-5bc1cf179e1e"
      },
      "outputs": [
        {
          "data": {
            "image/png": "[encoded data removed]",
            "text/plain": [
              "<Figure size 1200x600 with 1 Axes>"
            ]
          },
          "metadata": {},
          "output_type": "display_data"
        }
      ],
      "source": [
        "baneform = plt.figure('y(x)', figsize=(12, 6))\n",
        "plt.plot(x, y, xfast, yfast, '*')\n",
        "plt.title('Banens form', fontsize=20)\n",
        "plt.xlabel('$x$ (mm)', fontsize=20)\n",
        "plt.ylabel('$y(x)$ (mm)', fontsize=20)\n",
        "plt.text(10, 80, 'Skruehøyder (mm):', fontsize=16)\n",
        "plt.text(-40, 50, int(yfast[0]), fontsize=16)\n",
        "plt.text(160, 50, int(yfast[1]), fontsize=16)\n",
        "plt.text(360, 50, int(yfast[2]), fontsize=16)\n",
        "plt.text(560, 50, int(yfast[3]), fontsize=16)\n",
        "plt.text(760, 50, int(yfast[4]), fontsize=16)\n",
        "plt.text(960, 50, int(yfast[5]), fontsize=16)\n",
        "plt.text(1160, 50, int(yfast[6]), fontsize=16)\n",
        "plt.text(1360, 50, int(yfast[7]), fontsize=16)\n",
        "plt.ylim(0, 300)\n",
        "plt.xlim(-50, 1450)\n",
        "plt.grid()\n",
        "plt.show()\n",
        "#Ta bort # hvis du ønsker å lagre grafen som pdf og/eller png.\n",
        "#baneform.savefig(\"baneform.pdf\", bbox_inches='tight')\n",
        "#baneform.savefig(\"baneform.png\", bbox_inches='tight')"
      ]
    },
    {
      "cell_type": "markdown",
      "metadata": {
        "id": "DhHAPUzAoya3"
      },
      "source": [
        "La oss til slutt foreta noen beregninger basert på banens form og skrive ut\n",
        "noen størrelser, som en kontroll på at banen tilfredsstiller kriteriene som nevnes ovenfor. Du finner selv ut hva de beregnede størrelsene representerer."
      ]
    },
    {
      "cell_type": "code",
      "execution_count": 54,
      "metadata": {
        "collapsed": false
      },
      "outputs": [
        {
          "name": "stdout",
          "output_type": "stream",
          "text": [
            "Høyeste punkt etter 3.skrue (mm):  229\n",
            "Laveste punkt etter 2.skrue (mm):  143\n",
            "Starthelningsvinkel (grader): -10.0\n",
            "Maksimal helningsvinkel (grader): 23.6\n",
            "Minste krumningsradius (mm):  239\n",
            "Festepunkthøyder (mm): [300. 253. 172. 156. 222. 206. 144. 182.]\n"
          ]
        }
      ],
      "source": [
        "y37 = y[400:1400]\n",
        "y27 = y[200:1400]\n",
        "y37min = np.min(y37)\n",
        "y37max = np.max(y37)\n",
        "y27min = np.min(y27)\n",
        "y27max = np.max(y27)\n",
        "K = d2y / (1 + dy ** 2) ** (1.5)\n",
        "R = 1 / (np.abs(K) + 1E-8)  #unngår R = uendelig\n",
        "Rmin = np.min(R)\n",
        "beta = np.arctan(dy)\n",
        "betadeg = beta * 180 / np.pi\n",
        "startvinkel = betadeg[0]\n",
        "maksvinkel = np.max(np.abs(betadeg))\n",
        "\n",
        "print('Høyeste punkt etter 3.skrue (mm): %4.0f' % y37max)\n",
        "print('Laveste punkt etter 2.skrue (mm): %4.0f' % y27min)\n",
        "print('Starthelningsvinkel (grader): %4.1f' % startvinkel)\n",
        "print('Maksimal helningsvinkel (grader): %4.1f' % maksvinkel)\n",
        "print('Minste krumningsradius (mm): %4.0f' % Rmin)\n",
        "print('Festepunkthøyder (mm):', yfast)"
      ]
    },
    {
      "cell_type": "code",
      "execution_count": 55,
      "metadata": {
        "collapsed": false
      },
      "outputs": [],
      "source": [
        "y_0 = yfast[0]  # mm\n",
        "g = 9810  # [mm/s^2]\n",
        "c = np.divide(2, 5)  # []\n",
        "v = np.sqrt((10 * g * (y_0 - y)) / 7)  # [mm/s]\n",
        "m = 31e-3  # [kg]"
      ]
    },
    {
      "cell_type": "code",
      "execution_count": 56,
      "metadata": {
        "collapsed": false
      },
      "outputs": [],
      "source": [
        "def time_development(v, x, beta) -> float:\n",
        "    dt = []\n",
        "    dx = 1  # mm\n",
        "    for i in range(len(x) - 1):\n",
        "        previous_angle = beta[i]\n",
        "        current_angle = beta[i + 1]\n",
        "\n",
        "        previous_v = v[i] * np.cos(previous_angle)\n",
        "        current_v = v[i + 1] * np.cos(current_angle)\n",
        "\n",
        "        dt.append(np.divide(2 * dx, previous_v + current_v))\n",
        "\n",
        "    return sum(dt)\n",
        "\n",
        "\n",
        "def kappa(x, dy, d2y) -> float:\n",
        "    return np.divide(d2y[x], np.power((1 + np.power(dy[x], 2)), np.divide(3, 2)))  # formula 5\n",
        "\n",
        "\n",
        "def centripetal_acc(v, x, dy, d2y) -> float:\n",
        "    return kappa(x, dy, d2y) * np.power(v, 2)  # formula 6\n",
        "\n",
        "\n",
        "def normal_force(g, beta, v, x, dy, d2y) -> float:\n",
        "    return np.divide(1, g) * (g * np.cos(beta) + centripetal_acc(v, x, dy, d2y))  # formula 7\n",
        "\n",
        "\n",
        "def friction_force(beta) -> float:\n",
        "    return 2 * np.sin(beta) / 7  # formula 13\n",
        "\n",
        "\n",
        "def calculate_speed(y: float, y_0: float, g: float = g) -> float:\n",
        "    return np.sqrt((10 * g * (y_0 - y)) / 7)  # [mm/s]\n"
      ]
    },
    {
      "cell_type": "code",
      "execution_count": 57,
      "metadata": {
        "collapsed": false
      },
      "outputs": [],
      "source": [
        "def kinetic_energy(m, v) -> float:\n",
        "    return (1 + c) / 2 * m * np.power(v, 2)\n",
        "\n",
        "\n",
        "def energy_loss(g: float, y_start: float, y_end: float, v_end: float) -> float:\n",
        "    \"\"\"\n",
        "    Calculates the relative mechanical energy loss\n",
        "    \"\"\"\n",
        "    return g * (y_start - y_end) - kinetic_energy(m, v_end)\n",
        "\n",
        "\n",
        "def mean_value(m_energy_loss: list) -> float:\n",
        "    \"\"\"\n",
        "    Calculates the mean value of a list of mechanical energy losses.\n",
        "    \"\"\"\n",
        "    return 1 / len(m_energy_loss) * sum(m_energy_loss)\n",
        "\n",
        "\n",
        "def standard_deviation(m_energy_loss: list) -> float:\n",
        "    mean_energy_loss = mean_value(m_energy_loss)\n",
        "    no_observations = len(m_energy_loss)\n",
        "    return np.sqrt(\n",
        "        1 / (no_observations - 1) * sum([(energy_loss - mean_energy_loss) ** 2 for energy_loss in m_energy_loss]))\n",
        "\n",
        "\n",
        "def standard_error(m_energy_loss: list) -> float:\n",
        "    delta_x = standard_deviation(m_energy_loss)\n",
        "    no_observations = len(m_energy_loss)\n",
        "\n",
        "    return np.divide(delta_x, np.sqrt(no_observations))"
      ]
    },
    {
      "cell_type": "code",
      "execution_count": 58,
      "metadata": {
        "collapsed": false
      },
      "outputs": [],
      "source": [
        "def read_txy(file_path: str) -> list[dict]:\n",
        "    data = []\n",
        "    with open(file_path, 'r') as file:\n",
        "        lines = file.readlines()[2:]  # skip header\n",
        "        for line in lines:\n",
        "            line = line.split()\n",
        "\n",
        "            txy_dict = {\n",
        "                't': float(line[0]),\n",
        "                'x': float(line[1]),\n",
        "                'y': float(line[2])\n",
        "            }\n",
        "\n",
        "            data.append(txy_dict)\n",
        "\n",
        "    return data"
      ]
    },
    {
      "cell_type": "code",
      "execution_count": 59,
      "metadata": {
        "collapsed": false
      },
      "outputs": [],
      "source": [
        "\n",
        "def plot_num_vel() -> None:\n",
        "    plt.plot(x, v * 1000)\n",
        "    plt.xlabel('Position (mm)')\n",
        "    plt.ylabel('Velocity (mm/s)')\n",
        "    plt.grid()\n",
        "    plt.show()\n",
        "\n",
        "\n",
        "def plot_num_deg() -> None:\n",
        "    plt.plot(betadeg)\n",
        "    plt.xlabel('Position (mm)')\n",
        "    plt.ylabel('Angle (degrees)')\n",
        "    plt.grid()\n",
        "    plt.show()\n",
        "\n",
        "\n",
        "def plot_friction_force() -> None:\n",
        "    ff = friction_force(beta)\n",
        "    plt.title('Friksjonskraft')\n",
        "    plt.plot(x, ff, label='Friksjonskraft')\n",
        "    plt.xlabel(\"x-posisjon (mm)\")\n",
        "    plt.ylabel(\"Friksjonskraft (N)\")\n",
        "    plt.legend()\n",
        "    plt.grid()\n",
        "    plt.savefig('../report/images/friksjonskraft.png', dpi=400)\n",
        "    plt.show()\n",
        "\n",
        "\n",
        "def plot_normal_force() -> None:\n",
        "    nf = normal_force(g, beta, v, x, dy, d2y)\n",
        "    plt.title('Normalkraft')\n",
        "    plt.plot(x, nf, label='Normalkraft')\n",
        "    plt.xlabel(\"x-posisjon (mm)\")\n",
        "    plt.ylabel(\"Normalkraft (N)\")\n",
        "    plt.legend()\n",
        "    plt.grid()\n",
        "    plt.savefig('../report/images/normalkraft.png', dpi=400)\n",
        "    plt.show()\n",
        "\n",
        "\n",
        "def plot_num_nf_nn() -> None:\n",
        "    nf = normal_force(g, beta, v, x, dy, d2y)\n",
        "    ff = friction_force(beta)\n",
        "    relationship = np.abs(np.divide(ff, nf))\n",
        "    \n",
        "    plt.title('Forhold mellom friksjonskraft og normalkraft')\n",
        "    plt.plot(x, relationship, label=r'$\\frac {friksjonskraft}{normalkraft}$')\n",
        "    plt.xlabel(\"x [mm]\")\n",
        "    plt.ylabel(r'$\\frac {f}{N}$')\n",
        "    plt.grid()\n",
        "    plt.savefig('../report/images/friksjonskraft_over_normalkraft.png', dpi=400)\n",
        "    plt.show()\n",
        "    \n",
        "\n",
        "\n",
        "def plot_baneform() -> None:\n",
        "    txy_data = read_txy(file_path=\"data/txy1.txt\")\n",
        "    x_txy = [txy['x'] * 1000 for txy in txy_data]\n",
        "    y_txy = [txy['y'] * 1000 for txy in txy_data]\n",
        "\n",
        "    plt.title('Baneform')\n",
        "    plt.plot(x_txy, y_txy, label='Ekspermentell data')\n",
        "    plt.plot(x, y, label='Numerisk data')\n",
        "    plt.xlabel('x (mm)')\n",
        "    plt.ylabel('y (mm)')\n",
        "    plt.legend()\n",
        "    plt.grid()\n",
        "    plt.savefig('../report/images/baneform.png', dpi=400)\n",
        "    plt.show()\n",
        "\n",
        "\n",
        "def plot_fart() -> None:\n",
        "    txy_data = read_txy(file_path=\"data/txy1.txt\")\n",
        "    x_txy = [txy['x'] * 1000 for txy in txy_data]\n",
        "    y_txy = [txy['y'] * 1000 for txy in txy_data]\n",
        "    t_txy = [txy['t'] for txy in txy_data]\n",
        "\n",
        "    y_0 = y_txy[0]\n",
        "    v_list = [calculate_speed(y_0=y_0, y=y, g=g) for y in y_txy]\n",
        "    plt.title(r'Fart [$\\frac {m}{s}$]')\n",
        "    plt.plot(x_txy, v_list, label='Eksperimentell fart')\n",
        "    plt.plot(x, v, label='Numerisk fart')\n",
        "    plt.ylabel(r'Fart [$\\frac {mm}{s}$]')\n",
        "    plt.xlabel('x [mm]')\n",
        "    plt.grid()\n",
        "    plt.plot()\n",
        "    plt.legend()\n",
        "    plt.savefig('../report/images/fart.png', dpi=400)\n",
        "    plt.show()\n",
        "    \n",
        "def plot_angle() -> None:\n",
        "    plt.plot(x, beta * np.divide(180, np.pi), label='Helningsvinkel')\n",
        "    plt.title('Helningsvinkel')\n",
        "    plt.xlabel('x [mm]')\n",
        "    plt.ylabel(r'$\\beta$ [grader]')\n",
        "    plt.legend()\n",
        "    plt.grid()\n",
        "    plt.savefig('../report/images/helningsvinkel.png', dpi=400)\n",
        "    plt.show()\n",
        "    \n",
        "def plot_krumning() -> None:\n",
        "    plt.plot(x, K, label='Krumning')\n",
        "    plt.title(\"Krumning\")\n",
        "    plt.xlabel('x [mm]')\n",
        "    plt.ylabel(r'$\\kappa$ [$\\frac {1}{mm}$]')\n",
        "    plt.grid()\n",
        "    plt.legend()\n",
        "    plt.savefig('../report/images/krumning.png', dpi=400)\n",
        "    plt.show()\n",
        "\n",
        "\n",
        "def plot() -> None:\n",
        "    plot_baneform()\n",
        "    plot_fart()\n",
        "    plot_friction_force()\n",
        "    plot_normal_force()\n",
        "    plot_num_nf_nn()\n",
        "    plot_angle()\n",
        "    plot_krumning()\n",
        "\n",
        "\n",
        "def main() -> None:\n",
        "    # plot()\n",
        "   \n",
        "    m_energy_loss = []\n",
        "\n",
        "    y_0 = [0.318, 0.317, 0.316, 0.319, 0.316, 0.320, 0.315, 0.320, 0.319, 0.316 ] # [m]\n",
        "    y_final = [0.178, 0.175, 0.183, 0.180, 0.182, 0.181, 0.178, 0.182, 0.178, 0.177] # [m]\n",
        "    v_final = [1.323, 1.292, 1.271, 1.259, 1.257, 1.310, 1.283, 1.284, 1.298, 1.310] # [m/s]\n",
        "\n",
        "    for i in range(len(y_0)):\n",
        "        m_energy_loss.append(energy_loss(9.81, y_0[i], y_final[i], v_final[i]) * m)\n",
        "\n",
        "\n",
        "    mv = mean_value(m_energy_loss)\n",
        "    se = standard_error(m_energy_loss)\n",
        "    sd = standard_deviation(m_energy_loss)\n",
        "\n",
        "    ke = [kinetic_energy(v=v, m=m) for v in v_final]\n",
        "\n",
        "    total_time = time_development(v, x, beta)\n",
        "\n",
        "    print(f\"Energy loss: {m_energy_loss}\")\n",
        "    print(f'Mean value: {mv}')\n",
        "    print(f'Standard error: {se}')\n",
        "    print(f'Standard deviation: {sd}')\n",
        "    print(f'Total time: {total_time} s')\n",
        "    print(f'Kinetic energy: {ke}')\n",
        "    \n",
        "    v_final = [1.323, 1.292, 1.271, 1.259, 1.257, 1.310, 1.283, 1.284, 1.298, 1.310] # [m/s]\n",
        "    v_final = np.array(v_final)\n",
        "    v_avg = np.mean(v_final)\n",
        "    sd = np.std(v_final)\n",
        "    print(mean_value(ke))\n",
        "    \n",
        "    print(f'Average speed: {v_avg} +- {sd} m/s')"
      ]
    },
    {
      "cell_type": "code",
      "execution_count": 60,
      "metadata": {
        "collapsed": false
      },
      "outputs": [
        {
          "name": "stdout",
          "output_type": "stream",
          "text": [
            "Energy loss: [0.04139795368170001, 0.0420607061072, 0.0393599228393, 0.041205006011300005, 0.0396878410377, 0.04111686953000001, 0.0405557459297, 0.04085812910880001, 0.04174614234920001, 0.04111686953000001]\n",
            "Mean value: 0.04091051861249\n",
            "Standard error: 0.00026788412709993575\n",
            "Standard deviation: 0.0008471239906418336\n",
            "Total time: 1.5785366533760579 s\n",
            "Kinetic energy: [0.03798213929999999, 0.036223028799999994, 0.03505506969999999, 0.03439625769999999, 0.03428706329999999, 0.03723937, 0.035720131299999985, 0.035775835199999995, 0.0365602468, 0.03723937]\n",
            "0.036047851209999995\n",
            "Average speed: 1.2887 +- 0.021062051182161767 m/s\n"
          ]
        }
      ],
      "source": [
        "if __name__ == \"__main__\":\n",
        "    main()"
      ]
    }
  ],
  "metadata": {
    "colab": {
      "collapsed_sections": [],
      "name": "TFY41xx Fysikk våren 2021.ipynb",
      "provenance": []
    },
    "kernelspec": {
      "display_name": "venv",
      "language": "python",
      "name": "python3"
    },
    "language_info": {
      "codemirror_mode": {
        "name": "ipython",
        "version": 3
      },
      "file_extension": ".py",
      "mimetype": "text/x-python",
      "name": "python",
      "nbconvert_exporter": "python",
      "pygments_lexer": "ipython3",
      "version": "3.10.8"
    },
    "vscode": {
      "interpreter": {
        "hash": "f924a07468943f7b31a0b1e3c83fb10a458a9fb4263d31053fe4d15a6b19b800"
      }
    }
  },
  "nbformat": 4,
  "nbformat_minor": 4
}
