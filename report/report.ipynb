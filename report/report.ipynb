{
 "cells": [
  {
   "attachments": {},
   "cell_type": "markdown",
   "metadata": {
    "collapsed": false
   },
   "source": [
    "# Labrapport - Analyse av kulebevegelse\n",
    "Jathavaan Shankarr, Teodor Lindell, Martin Bergstø, Åke Sjursen Hauge"
   ]
  },
  {
   "cell_type": "markdown",
   "metadata": {
    "collapsed": false
   },
   "source": [
    "## 1 Sammendrag"
   ]
  },
  {
   "cell_type": "markdown",
   "metadata": {
    "collapsed": false
   },
   "source": [
    "## 2 Innledning\n",
    "\n",
    "Denne rapporten tar for seg en analyse av hvordan en ball ruller uten å gli på en berg-og-dal-bane. Det vil bli blant annet tatt for seg hvordan kreftene og hastigheter endrer seg langs baneformen. En numerisk analyse vil bli presentert og sammenlignet med de eksperimentelle verdiene. Hensikten med dette forsøket er sammenligne simulerte og målte verdier samt beregne tap av mekanisk  energi."
   ]
  },
  {
   "attachments": {},
   "cell_type": "markdown",
   "metadata": {
    "collapsed": false
   },
   "source": [
    "## 3 Teori\n",
    "\n",
    "Energiprinsippet forteller oss at energi er konstant, altså det ikke kan skapes eller forsvinne. Prinsippet går ut på at dersom mengden av en type energi minker vil mengden av en annen type energi øke. Ved hjelp av energiprinsippet kan man beregne en rekke verdier.\n",
    "\n",
    "Et sfærisk legme med en radius $r$ og masse $m$ vil ha et treghetsmoment git ved:\n",
    "\n",
    "$$\n",
    "I_0 = cmr^2 \\tag{1}\n",
    "$$\n",
    "\n",
    "For en kule med uniform massefordeling vil $c=\\frac {2}{5}$. Dersom krumningsradiusen $R$ til en overflate et betraktlig mye større enn radiusen $r$ til en kule kan man anta at banen til kulens massesenter vil ha samme form som baneformen. Eneste som da vil skille disse to banene er avstanden fra kulens massesenter til kontaktpunktet til sfæren, altså avstanden $r$.\n",
    "\n",
    "### 3.1 Mekanisk energi\n",
    "\n",
    "Den mekaniske energien i et system er definert som:\n",
    "\n",
    "$$\n",
    "E = U + K \\tag{2}\n",
    "$$\n",
    "\n",
    "hvor $U$ er den potensielle energien og $K$ er den kinteiske energien. Ved start kulens hastighet null, og dens *y-posisjon* er definert som $y(0)=y_0$. Gitt av man velger $U=0$ for $y=0$ vil da den totale mekaniske energien ved tiden $t_0$ være gitt ved:\n",
    "\n",
    "$$\n",
    "E = U_0 = mgy_0 \\tag{3}\n",
    "$$\n",
    "\n",
    "Summen av translasjonsenergien ($K_{translasjon} = \\frac {mv^2}{2}$) og rotasjonsenergien ($K_{rotasjon} = \\frac {cmv^2}{2}$) utgjør den kinetiske energien med den antagelsen at kulen ruller uten å gli. Den totalte kinetiske energien er da gitt ved\n",
    "\n",
    "$$\n",
    "K = K_{translasjon} + K_{rotasjon} = \\frac {mv^2}{2} + \\frac {cmv^2}{2} \\Rightarrow K = \\frac {1 + c}{2} \\cdot mv^2 \\tag{4}\n",
    "$$\n",
    "\n",
    "Den totale mekaniske energien kan nå defineres slik\n",
    "\n",
    "$$\n",
    "E = mgh + \\frac {1 + c}{2} \\cdot mv^2 \\tag{5}\n",
    "$$\n",
    "\n",
    "### 3.2 Hastighet\n",
    "\n",
    "Man kan utnytte uttrykket for den totale mekaniske energien og faktumet at baneformen er kjent til å utlede en funskjon som beskriver hastigheten til kulen avhengig av *x-posisjon*:\n",
    "\n",
    "$$\n",
    "v(x) = \\sqrt {\\frac {2g \\cdot (y_0 - y(x))} {1 + c}} \\tag{6}\n",
    "$$\n",
    "\n",
    "### 3.3 Sentripetalakselerasjon og normalkraft\n",
    "\n",
    "Gitt en hastighet $v$ og en krumning $\\kappa$ kan man utlede sentripetalakselerasjonen \n",
    "\n",
    "$$\n",
    "a_\\perp = v^2 \\cdot \\kappa = \\frac {2g \\cdot (y_0 - y(x)) } {1 + c} \\cdot  \\frac {y''(x)} {[1 + (y'(x))^2]^\\frac {3} {2}} \\tag{7}\n",
    "$$\n",
    "\n",
    "En positiv krumning vil i praksis bety at banen krummer oppover, og en negativ krumning vil bety at banen krummer nedover. De samme vilkårene overføres til sentripetalakselerasjonen; en positiv krumning gir en positiv sentripetalakselerasjon, og en negativ krumning gir en negativ sentripetalakserlerasjon. Dette kan beskrives slik:\n",
    "\n",
    "$$\n",
    "\\vec {a_\\perp} > 0 \\Rightarrow a_{\\perp , y} > 0\\\\\n",
    "\\vec {a_\\perp} < 0 \\Rightarrow a_{\\perp , y} < 0 \\tag{8}\n",
    "$$\n",
    "\n",
    "Dersom vi bestemmer tyngdeakselerasjonen $g$ til å virke i negativ retning og normalkraften $N$ til å virke i positiv retning vil newtons 2. lov gi oss følgende sammenheng:\n",
    "\n",
    "$$\n",
    "N - mg \\cdot cos(\\beta) = m a_\\perp \\Rightarrow N = m(g \\cdot cos (\\beta) + a_\\perp) \\tag{9}\n",
    "$$\n",
    "\n",
    "Ut ifra dette kan man trekke følgende konklusjon:\n",
    "- Dersom banen krummer opp vil sentripetalakselerasjonen peke i samme retning som normalkraften: $N > mg \\cdot cos(\\beta)$\n",
    "- Dersom banen krummer ned vil sentripetalakselerasjonen peke i motsatt retning som normalkraften: $N < mg \\cdot cos(\\beta)$\n",
    "\n",
    "<center>\n",
    "    <img src=\"./images/sentripetal_normal.png\" width=\"400px\" align=\"center\"/>\n",
    "</center>\n",
    "\n",
    "### 3.4 Statisk friksjonskraft\n",
    "Stigningstallet $y'(x) = \\frac {dy} {dx} = tan \\beta$ får riktig stignignstall dersom vi velger en positiv helningsvinkel $\\beta$ når kulen triller nedover, og negativ $\\beta$ når kulen triller oppover. Både friksjonskraften $f$ og tyngdens tangentialkomponenten $-mg \\cdot sin(\\beta)$. For en negativ $\\beta$ vil $f$ ha retning mot venstre, og retning mot høyre dersom $\\beta$ er positiv. Fra Newtons 2. lov får vi følgende sammenheng, som fungerer uavhengig av fortegn på $\\beta$:\n",
    "\n",
    "$$\n",
    "-mg \\cdot sin(\\beta) + f = ma\n",
    "$$\n",
    "\n",
    "Baneakselerasjonen $a$ kan utledes fra uttrykket $v(y) = \\sqrt{\\frac {2g(y_0 - y)}{1 + c}}$:\n",
    "\n",
    "$$\n",
    "a = \\frac {dv}{dt} = \\frac {dv} {dy} \\frac {dy}{dt} = - \\frac {g \\cdot sin(\\beta)}{1 + c} \\tag{10}\n",
    "$$\n",
    "\n",
    "Ut ifra dette kan man utlede et uttrykk for friksjonskraften: \n",
    "\n",
    "$$\n",
    "f = ma + mg \\cdot sin(\\beta) = \\frac {c}{1 + c} \\cdot mg \\cdot sin(\\beta) \\tag{11}\n",
    "$$\n",
    "\n",
    "### 3.5 Tidsutvikling\n",
    "For en gitt posisjon $(x_n, y_n)$ er hastigheten $v_n$ og helningsvinkelen $\\beta_n$ kjente verdier. En gjennomsnittlig horsiontalkomponent for hastigheten $v$ er gitt ved:\n",
    "\n",
    "$$\n",
    "(v_x)_n = \\frac {1}{2} (v_{x, \\space n - 1} + v_{x, \\space n}) =  \\frac {\\Delta x_n}{\\Delta t_n} \\tag{12}\n",
    "$$\n",
    "\n",
    "Fra formel $(12)$ kan man utlede følgende:\n",
    "\n",
    "$$\n",
    "\\Delta t_n = \\frac {\\Delta x_n}{(v_x)_n} = \\frac {2 \\Delta x_n}{v_{x, \\space n - 1} + v_{x, n}} \\tag{13}\n",
    "$$"
   ]
  },
  {
   "attachments": {},
   "cell_type": "markdown",
   "metadata": {
    "collapsed": false
   },
   "source": [
    "## 4 Metode\n",
    "Utstyrsliste:\n",
    "* Stativ med skruefester\n",
    "* Baneskive\n",
    "* Kamerastativ\n",
    "* Mobiltelefon (som kamera)\n",
    "* Linjal\n",
    "* Kule\n",
    "\n",
    "Prosjektet var todelt, først beregnet vi hastighet og posisjon numerisk, og deretter ekseperimentelt. Til slutt sammenlignet vi resultater. Den numeriske metoden fungerte slik at vi genererte baneformen ved bruk av tredjegradspolynomer på intervaller mellom åtte tilfeldig valgte skruefestehøyder. På denne måten er banen, og dens første- og andrederiverte kontinuerlige i festene. Dette gjøres i Python ved bruk av CubicSpline-funksjonen fra SciPy-biblioteket interpolate slik:\n",
    "<br>\n",
    "```python\n",
    "cs = CubicSpline(xfast,yfast,bc_type='natural')\n",
    "```\n",
    "\n",
    "Der `xfast` er tabeller med horisontale koordinater og `yfast` er tabeller med vertikale koordinater. `bx_type=\"natural\"` gjør krumning lik null i de to ytterste skruefestene.\n",
    "\n",
    "Kulen i forsøket hadde en oppgitt masse på $31 \\space g$, og en diameter på $10 \\space mm$. Kulen hadde en overflate av gummi. Vi antok kulen som kompakt med en uniform massefordeling, som resulterer i en $c = \\frac {2}{5}$. Baneskiven var $1400 \\space mm$.\n",
    "\n",
    "Programmet ble utvidet for å plotte kulas fart langs banen gitt ved likning (6) og slutthastigheten ble notert. I tillegg ble det plottet en statisk friksjonskoeffisient som en funksjon av x-retning og banens helningsvinkel ved hjelp av Python.  Banen ble delt inn i 1401 punkter, og tiden som kula brukte fra et punkt til et annet ble beregnet ved å bruke hastigheten og helningsvinkelen. Vi fant gjennomsnitthastigheten mellom to punkter og tidsintervallet ble funnet av likning (12). Dette ble gjort for alle 1400 intervaller i Python-koden, og tidsintervallene ble summert for å plotte horisontalposisjonen mot tiden ved formel (13).\n",
    "\n",
    "Neste steg involverte å sette opp banen fysisk med x-og y-verdier fra den valgte baneformen. Dette ble gjort ved å bruke en linjal for å få nøyaktig høyde på de 8 punktene på banen. Forsøket ble deretter utført 10 ganger med en kompakt kule med masse m = ($31 \\space ± \\space 0,5)\\space g$, radius r = ($11,0 \\space ± \\space 0,3)\\space g$ mm og $c = \\frac {2}{5}$. Friksjonskoeffisienten μ for kula var 0.4, og videoen av forsøket ble tatt opp med en bildefrekvens på 30 fps ved hjelp av programmet Tracker. Dette ga slutthastigheten til kula, og prosessen ble gjentatt for alle 10 videoene for å beregne gjennomsnittlig slutthastighet.\n",
    "\n",
    "En av videoene ble brukt til å plotte horisontalposisjonen som en funksjon av tid, og dette ble sammenlignet med den numeriske horisontalposisjonen. Den eksperimentelle banen ble også plottet sammen med den numeriske banen for å se om resultatene var i samsvar med hverandre. Figur 2 viser oppsettet av den reelle banen med de 8 punktene som ble gitt av Python-koden."
   ]
  },
  {
   "attachments": {},
   "cell_type": "markdown",
   "metadata": {
    "collapsed": false
   },
   "source": [
    "## 5 Resultater"
   ]
  },
  {
   "attachments": {},
   "cell_type": "markdown",
   "metadata": {
    "collapsed": false
   },
   "source": [
    "## 6 Diskusjon"
   ]
  },
  {
   "attachments": {},
   "cell_type": "markdown",
   "metadata": {
    "collapsed": false
   },
   "source": [
    "## 7 Konklusjon"
   ]
  },
  {
   "attachments": {},
   "cell_type": "markdown",
   "metadata": {
    "collapsed": false
   },
   "source": [
    "## 8 Referanser"
   ]
  },
  {
   "cell_type": "markdown",
   "metadata": {},
   "source": []
  }
 ],
 "metadata": {
  "kernelspec": {
   "display_name": "Python 3",
   "language": "python",
   "name": "python3"
  },
  "language_info": {
   "codemirror_mode": {
    "name": "ipython",
    "version": 3
   },
   "file_extension": ".py",
   "mimetype": "text/x-python",
   "name": "python",
   "nbconvert_exporter": "python",
   "pygments_lexer": "ipython3",
   "version": "3.10.8"
  }
 },
 "nbformat": 4,
 "nbformat_minor": 0
}
