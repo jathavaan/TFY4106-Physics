{
 "cells": [
  {
   "attachments": {},
   "cell_type": "markdown",
   "metadata": {
    "collapsed": false
   },
   "source": [
    "# Labrapport - Analyse av kulebevegelse\n",
    "Jathavaan Shankarr, Teodor Lindell, Martin Bergstø, Åke Sjursen Hauge"
   ]
  },
  {
   "cell_type": "markdown",
   "metadata": {
    "collapsed": false
   },
   "source": [
    "## 1 Sammendrag"
   ]
  },
  {
   "cell_type": "markdown",
   "metadata": {
    "collapsed": false
   },
   "source": [
    "## 2 Innledning\n",
    "\n",
    "Denne rapporten tar for seg en analyse av hvordan en ball ruller uten å gli på en berg-og-dal-bane. Det vil bli blant annet tatt for seg hvordan kreftene og hastigheter endrer seg langs baneformen. En numerisk analyse vil bli presentert og sammenlignet med de eksperimentelle verdiene. Hensikten med dette forsøket er sammenligne simulerte og målte verdier samt beregne tap av mekanisk  energi."
   ]
  },
  {
   "attachments": {},
   "cell_type": "markdown",
   "metadata": {
    "collapsed": false
   },
   "source": [
    "## 3 Teori\n",
    "\n",
    "Energiprinsippet forteller oss at energi er konstant, altså det ikke kan skapes eller forsvinne. Prinsippet går ut på at dersom mengden av en type energi minker vil mengden av en annen type energi øke. Ved hjelp av energiprinsippet kan man beregne en rekke verdier.\n",
    "\n",
    "Et sfærisk legme med en radius $r$ og masse $m$ vil ha et treghetsmoment git ved:\n",
    "\n",
    "$$\n",
    "I_0 = cmr^2 \\tag{1}\n",
    "$$\n",
    "\n",
    "For en kule med uniform massefordeling vil $c=\\frac {2}{5}$. Dersom krumningsradiusen $R$ til en overflate et betraktlig mye større enn radiusen $r$ til en kule kan man anta at banen til kulens massesenter vil ha samme form som baneformen. Eneste som da vil skille disse to banene er avstanden fra kulens massesenter til kontaktpunktet til sfæren, altså avstanden $r$.\n",
    "\n",
    "### 3.1 Mekanisk energi\n",
    "\n",
    "Den mekaniske energien i et system er definert som:\n",
    "\n",
    "$$\n",
    "E = U + K \\tag{2}\n",
    "$$\n",
    "\n",
    "hvor $U$ er den potensielle energien og $K$ er den kinteiske energien. Ved start kulens hastighet null, og dens *y-posisjon* er definert som $y(0)=y_0$. Gitt av man velger $U=0$ for $y=0$ vil da den totale mekaniske energien ved tiden $t_0$ være gitt ved:\n",
    "\n",
    "$$\n",
    "E = U_0 = mgy_0 \\tag{3}\n",
    "$$\n",
    "\n",
    "Summen av translasjonsenergien ($K_{translasjon} = \\frac {mv^2}{2}$) og rotasjonsenergien ($K_{rotasjon} = \\frac {cmv^2}{2}$) utgjør den kinetiske energien med den antagelsen at kulen ruller uten å gli. Den totalte kinetiske energien er da gitt ved\n",
    "\n",
    "$$\n",
    "K = K_{translasjon} + K_{rotasjon} = \\frac {mv^2}{2} + \\frac {cmv^2}{2} \\Rightarrow K = \\frac {1 + c}{2} \\cdot mv^2 \\tag{4}\n",
    "$$\n",
    "\n",
    "Den totale mekaniske energien kan nå defineres slik\n",
    "\n",
    "$$\n",
    "E = mgh + \\frac {1 + c}{2} \\cdot mv^2 \\tag{5}\n",
    "$$\n",
    "\n",
    "### 3.2 Hastighet\n",
    "\n",
    "Man kan utnytte uttrykket for den totale mekaniske energien og faktumet at baneformen er kjent til å utlede en funskjon som beskriver hastigheten til kulen avhengig av *x-posisjon*:\n",
    "\n",
    "$$\n",
    "v(x) = \\sqrt {\\frac {2g \\cdot (y_0 - y(x))} {1 + c}} \\tag{6}\n",
    "$$\n",
    "\n",
    "### 3.3 Sentripetalakselerasjon og normalkraft\n",
    "\n",
    "Gitt en hastighet $v$ og en krumning $\\kappa$ kan man utlede sentripetalakselerasjonen \n",
    "\n",
    "$$\n",
    "a_\\perp = v^2 \\cdot \\kappa = \\frac {2g \\cdot (y_0 - y(x)) } {1 + c} \\cdot  \\frac {y''(x)} {[1 + (y'(x))^2]^\\frac {3} {2}} \\tag{7}\n",
    "$$\n",
    "\n",
    "En positiv krumning vil i praksis bety at banen krummer oppover, og en negativ krumning vil bety at banen krummer nedover. De samme vilkårene overføres til sentripetalakselerasjonen; en positiv krumning gir en positiv sentripetalakselerasjon, og en negativ krumning gir en negativ sentripetalakserlerasjon. Dette kan beskrives slik:\n",
    "\n",
    "$$\n",
    "\\vec {a_\\perp} > 0 \\Rightarrow a_{\\perp , y} > 0\\\\\n",
    "\\vec {a_\\perp} < 0 \\Rightarrow a_{\\perp , y} < 0 \\tag{8}\n",
    "$$\n",
    "\n",
    "Dersom vi bestemmer tyngdeakselerasjonen $g$ til å virke i negativ retning og normalkraften $N$ til å virke i positiv retning vil newtons 2. lov gi oss følgende sammenheng:\n",
    "\n",
    "$$\n",
    "N - mg \\cdot cos(\\beta) = m a_\\perp \\Rightarrow N = m(g \\cdot cos (\\beta) + a_\\perp) \\tag{9}\n",
    "$$\n",
    "\n",
    "Ut ifra dette kan man trekke følgende konklusjon:\n",
    "- Dersom banen krummer opp vil sentripetalakselerasjonen peke i samme retning som normalkraften: $N > mg \\cdot cos(\\beta)$\n",
    "- Dersom banen krummer ned vil sentripetalakselerasjonen peke i motsatt retning som normalkraften: $N < mg \\cdot cos(\\beta)$\n",
    "\n",
    "<center>\n",
    "    <img src=\"./images/sentripetal_normal.png\" width=\"400px\" align=\"center\"/>\n",
    "</center>\n",
    "\n",
    "### 3.4 Statisk friksjonskraft\n",
    "Stigningstallet $y'(x) = \\frac {dy} {dx} = tan \\beta$ får riktig stignignstall dersom vi velger en positiv helningsvinkel $\\beta$ når kulen triller nedover, og negativ $\\beta$ når kulen triller oppover. Både friksjonskraften $f$ og tyngdens tangentialkomponenten $-mg \\cdot sin(\\beta)$. For en negativ $\\beta$ vil $f$ ha retning mot venstre, og retning mot høyre dersom $\\beta$ er positiv. Fra Newtons 2. lov får vi følgende sammenheng, som fungerer uavhengig av fortegn på $\\beta$:\n",
    "\n",
    "$$\n",
    "-mg \\cdot sin(\\beta) + f = ma\n",
    "$$\n",
    "\n",
    "Baneakselerasjonen $a$ kan utledes fra uttrykket $v(y) = \\sqrt{\\frac {2g(y_0 - y)}{1 + c}}$:\n",
    "\n",
    "$$\n",
    "a = \\frac {dv}{dt} = \\frac {dv} {dy} \\frac {dy}{dt} = - \\frac {g \\cdot sin(\\beta)}{1 + c} \\tag{10}\n",
    "$$\n",
    "\n",
    "Ut ifra dette kan man utlede et uttrykk for friksjonskraften: \n",
    "\n",
    "$$\n",
    "f = ma + mg \\cdot sin(\\beta) = \\frac {c}{1 + c} \\cdot mg \\cdot sin(\\beta) \\tag{11}\n",
    "$$\n",
    "\n",
    "### 3.5 Tidsutvikling\n",
    "For en gitt posisjon $(x_n, y_n)$ er hastigheten $v_n$ og helningsvinkelen $\\beta_n$ kjente verdier. En gjennomsnittlig horsiontalkomponent for hastigheten $v$ er gitt ved:\n",
    "\n",
    "$$\n",
    "(v_x)_n = \\frac {1}{2} (v_{x, \\space n - 1} + v_{x, \\space n}) =  \\frac {\\Delta x_n}{\\Delta t_n} \\tag{12}\n",
    "$$\n",
    "\n",
    "Fra formel $(12)$ kan man utlede følgende:\n",
    "\n",
    "$$\n",
    "\\Delta t_n = \\frac {\\Delta x_n}{(v_x)_n} = \\frac {2 \\Delta x_n}{v_{x, \\space n - 1} + v_{x, n}} \\tag{13}\n",
    "$$"
   ]
  },
  {
   "attachments": {},
   "cell_type": "markdown",
   "metadata": {
    "collapsed": false
   },
   "source": [
    "## 4 Metode\n",
    "Utstyrsliste:\n",
    "* Stativ med skruefester\n",
    "* Baneskive\n",
    "* Kamerastativ\n",
    "* Mobiltelefon (som kamera)\n",
    "* Linjal\n",
    "* Kule\n",
    "\n",
    "Prosjektet var todelt, først beregnet vi hastighet og posisjon numerisk, og deretter ekseperimentelt. Til slutt sammenlignet vi resultater. Den numeriske metoden fungerte slik at vi genererte baneformen ved bruk av tredjegradspolynomer på intervaller mellom åtte tilfeldig valgte skruefestehøyder. På denne måten er banen, og dens første- og andrederiverte kontinuerlige i festene. Dette gjøres i Python ved bruk av CubicSpline-funksjonen fra SciPy-biblioteket interpolate slik:\n",
    "<br>\n",
    "```python\n",
    "cs = CubicSpline(xfast,yfast,bc_type='natural')\n",
    "```\n",
    "\n",
    "Der `xfast` er tabeller med horisontale koordinater og `yfast` er tabeller med vertikale koordinater. `bx_type=\"natural\"` gjør krumning lik null i de to ytterste skruefestene.\n",
    "\n",
    "Kulen i forsøket hadde en oppgitt masse på $31 \\space g$, og en diameter på $10 \\space mm$. Kulen hadde en overflate av gummi. Vi antok kulen som kompakt med en uniform massefordeling, som resulterer i en $c = \\frac {2}{5}$. Baneskiven var $1400 \\space mm$.\n",
    "\n",
    "Programmet ble utvidet for å plotte kulas fart langs banen gitt ved likning (6) og slutthastigheten ble notert. I tillegg ble det plottet en statisk friksjonskoeffisient som en funksjon av x-retning og banens helningsvinkel ved hjelp av Python.  Banen ble delt inn i 1401 punkter, og tiden som kula brukte fra et punkt til et annet ble beregnet ved å bruke hastigheten og helningsvinkelen. Vi fant gjennomsnitthastigheten mellom to punkter og tidsintervallet ble funnet av likning (12). Dette ble gjort for alle 1400 intervaller i Python-koden, og tidsintervallene ble summert for å plotte horisontalposisjonen mot tiden ved formel (13).\n",
    "\n",
    "Neste steg involverte å sette opp banen fysisk med x-og y-verdier fra den valgte baneformen. Dette ble gjort ved å bruke en linjal for å få nøyaktig høyde på de 8 punktene på banen. Forsøket ble deretter utført 10 ganger med en kompakt kule med masse $m$ = ($31 \\space ± \\space 0,5)\\space g$, radius $r$ = ($11,0 \\space ± \\space 0,3)\\space mm$ og $c = \\frac {2}{5}$. Friksjonskoeffisienten μ for kula var 0.4, og videoen av forsøket ble tatt opp med en bildefrekvens på 30 fps ved hjelp av programmet Tracker. Dette ga slutthastigheten til kula, og prosessen ble gjentatt for alle 10 videoene for å beregne gjennomsnittlig slutthastighet.\n",
    "\n",
    "En av videoene ble brukt til å plotte horisontalposisjonen som en funksjon av tid, og dette ble sammenlignet med den numeriske horisontalposisjonen. Den eksperimentelle banen ble også plottet sammen med den numeriske banen for å se om resultatene var i samsvar med hverandre. Figur 2 viser oppsettet av den reelle banen med de 8 punktene som ble gitt av Python-koden."
   ]
  },
  {
   "attachments": {},
   "cell_type": "markdown",
   "metadata": {
    "collapsed": false
   },
   "source": [
    "## 5 Resultater\n",
    "\n",
    "<figure>\n",
    "    <img src=\"./images/baneform.png\" width=\"400px\" align=\"center\"/>\n",
    "    <p><strong>Figur 1</strong>: Numerisk og eksperimentell baneform</p>\n",
    "</figure>\n",
    "\n",
    "Pythonkode ga en baneform slik som figur 2 viser. Starthøyde er $y_o$ = 0,28 m, som er banens høyeste punkt\n",
    "\n",
    "\n",
    "<figure>\n",
    "<img src=\"./images/generertbaneform.png\" width=\"400px\" align=\"center\"/>\n",
    "<figcaption><strong>Figur 2</strong>: Kulas numeriske bane. Her er vertikalposisjonen <br>en funksjon av horisontalposisjonen.De oransje punktene <br> representerer skruefestepunktene på den reelle banen.</figcaption>\n",
    "</figure>\n",
    "\n",
    "Banens helningsvinkel er vist i figur 3. Den største helningdsvinkelen er på 22 grader.\n",
    "\n",
    "<figure>\n",
    "    <img src=\"./images/helningsvinkel.png\" width=\"400px\" align=\"center\"/>\n",
    "    <figcaption><strong>Figur 3</strong>: Banens helningsvinkel i grader, &beta; som funksjon <br> av x-posisjon.</figcaption>\n",
    "</figure>\n",
    "<br>\n",
    "<figure>\n",
    "    <img src=\"./images/krumning.png\" width=\"400px\" align=\"center\"/>\n",
    "    <figcaption><strong>Figur 4</strong>: Banens krumnings som funksjon av x-posisjon.</figcaption>\n",
    "</figure>\n",
    "<br>\n",
    "Banen hadde en fartsutvikling for kula som vist i figur 5. Den numeriske slutthastigheten var 1,286 m/s. De 10 forsøkene ga en eksperimentell slutthastighet på v = (1,289 ± 0,021) m/s. Dette gir en differanse på (0,003 ± 0,021) m/s fra den numeriske verdien.\n",
    "\n",
    "<figure>\n",
    "    <img src=\"./images/fart.png\" width=\"400px\" align=\"center\"/>\n",
    "    <figcaption><strong>Figur 6</strong>: Kulas fart v langs banen som funksjon av y-posisjon.</figcaption>\n",
    "</figure>\n",
    "<br>\n",
    "<figure>\n",
    "    <img src=\"./images/friksjonskraft.png\" width=\"400px\" align=\"center\"/>\n",
    "    <figcaption><strong>Figur 7</strong>: viser friksjonskraft som funksjon av x-posisjon.</figcaption>\n",
    "</figure>\n",
    "<br>\n",
    "<figure>\n",
    "    <img src=\"./images/normalkraft.png\" width=\"400px\" align=\"center\"/>\n",
    "    <figcaption><strong>Figur 8</strong>: viser normalkraft som funksjon av x-posisjon.</figcaption>\n",
    "</figure>\n",
    "<br>\n",
    "Figur 9 viser forholdet mellom friksjonskraften og normalkraften til kula som funksjon av y-posisjon. Den høyeste verdien på forholdet var omtrent 0, 11. Denne verdien kommer på samme plass i banen som helningsvikelens maksimalverdi.\n",
    "<br>\n",
    "<figure>\n",
    "    <img src=\"./images/friksjonskraft_over_normalkraft.png\" width=\"400px\" align=\"center\"/>\n",
    "    <figcaption><strong>Figur 9</strong>: viser friksjonskraft over normalkraft som <br> funksjon av x-posisjon.</figcaption>\n",
    "</figure>\n",
    "\n",
    "```python\n",
    "def time_development(v, x, beta) -> float:\n",
    "    dt = []\n",
    "    dx = 1  # mm\n",
    "    for i in range(len(x) - 1):\n",
    "        previous_angle = beta[i]\n",
    "        current_angle = beta[i + 1]\n",
    "\n",
    "        previous_v = v[i] * np.cos(previous_angle)\n",
    "        current_v = v[i + 1] * np.cos(current_angle)\n",
    "\n",
    "        dt.append(np.divide(2 * dx, previous_v + current_v))\n",
    "\n",
    "    return sum(dt)\n",
    "```\n",
    "\n",
    "```python\n",
    "def mean_value(m_energy_loss: list) -> float:\n",
    "    \"\"\"\n",
    "    Calculates the mean value of a list of mechanical energy losses.\n",
    "    \"\"\"\n",
    "    return 1 / len(m_energy_loss) * sum(m_energy_loss)\n",
    "\n",
    "\n",
    "def standard_deviation(m_energy_loss: list) -> float:\n",
    "    mean_energy_loss = mean_value(m_energy_loss)\n",
    "    no_observations = len(m_energy_loss)\n",
    "    return np.sqrt(\n",
    "        1 / (no_observations - 1) * sum([(energy_loss - mean_energy_loss) ** 2 for energy_loss in m_energy_loss]))\n",
    "\n",
    "\n",
    "def standard_error(m_energy_loss: list) -> float:\n",
    "    delta_x = standard_deviation(m_energy_loss)\n",
    "    no_observations = len(m_energy_loss)\n",
    "\n",
    "    return np.divide(delta_x, np.sqrt(no_observations))\n",
    "\n",
    "```\n",
    "\n",
    "```python\n",
    "def kinetic_energy(m, v) -> float:\n",
    "    return (1 + c) / 2 * m * np.power(v, 2)\n",
    "\n",
    "\n",
    "def energy_loss(g: float, y_start: float, y_end: float, v_end: float) -> float:\n",
    "    \"\"\"\n",
    "    Calculates the relative mechanical energy loss\n",
    "    \"\"\"\n",
    "    return m * g * (y_start - y_end) - kinetic_energy(m, v_end)\n",
    "```\n",
    "\n",
    "Fra Python-funksjonene over fikk vi et gjennomsnittlig mekanisk energitap på  0.00598 $\\mu J$. Korresponderende standardfeil og standardavvik er henholdsvis 0.00032 og 0.00010. Gjennomsnittlig kinetisk energi i sluttpunktet er 0.0361 $\\mu J$. Funksjonen `time_development` ga oss en rulletid på 1.58 sekunder. Gjennomsnittlig eksperimentell rulletid er målt til 1.78 sekunder. Dette gir en differanse på 0.20 sekunder."
   ]
  },
  {
   "attachments": {},
   "cell_type": "markdown",
   "metadata": {
    "collapsed": false
   },
   "source": [
    "## 6 Diskusjon"
   ]
  },
  {
   "attachments": {},
   "cell_type": "markdown",
   "metadata": {},
   "source": [
    "For å svare på disse spørsmålene, må vi først se på grafene og dataene som er gitt i oppgaven.\n",
    "\n",
    "Grafene viser banen til en kule som ruller nedover en rampe med en bestemt høydeprofil. Vi har både eksperimentelle data og numeriske beregninger for hastighet, antall omdreininger og friksjonskraft langs banen.\n",
    "\n",
    "Når vi sammenligner de numeriske og eksperimentelle verdiene for hastighet og baneprofil, ser vi at det er noen forskjeller. Dette kan skyldes flere faktorer, som for eksempel friksjon mellom kule og bane, luftmotstand eller unøyaktigheter i målingene.\n",
    "\n",
    "En annen faktor som kan gi forskjeller mellom de numeriske og eksperimentelle verdiene er usikkerhet i startbetingelsene og parameterne i den numeriske modellen.\n",
    "\n",
    "Når det gjelder grafene for hastighet, antall omdreininger og friksjonskraft, kan vi se at de er rimelige med utgangspunkt i baneformen. Topppunktet for hastighetsgrafene svarer til toppunktet på baneprofilen, og bunnpunktet for antall omdreininger tilsvarer bunnpunktet på baneprofilen. Vendepunktet for friksjonskraftgrafene tilsvarer vendepunktet på baneprofilen.\n",
    "\n",
    "Det er imidlertid ikke sikkert at baneformen gir ren rulling. Dette avhenger av om den beregnede friksjonskraften hele veien er mindre enn maksimal statisk friksjonskraft. Grafen for |𝑓(𝑥)/𝑁(𝑥)| gir oss grunnlag for å diskutere dette. Hvis denne grafen er mindre enn 1, betyr det at den beregnede friksjonskraften er mindre enn maksimal statisk friksjonskraft, og kula vil rulle uten å skli.\n",
    "\n",
    "Når det gjelder målt rulletid, kan vi sammenligne den med beregnet rulletid og vurdere om de er rimelige. Feilkilder kan være målefeil, luftmotstand eller unøyaktigheter i den numeriske modellen.\n",
    "\n",
    "Målt tap i mekanisk energi kan også diskuteres. Det kan skyldes friksjon mellom kule og bane, luftmotstand eller andre energitap i systemet. Feilkilder kan være unøyaktigheter i målingene eller i den numeriske modellen.\n",
    "\n",
    "Alt i alt er det viktig å være klar over de ulike faktorene som kan påvirke resultatene, både de numeriske og eksperimentelle, og å vurdere dem nøye når vi diskuterer resultatene."
   ]
  },
  {
   "attachments": {},
   "cell_type": "markdown",
   "metadata": {
    "collapsed": false
   },
   "source": [
    "## 7 Konklusjon"
   ]
  },
  {
   "attachments": {},
   "cell_type": "markdown",
   "metadata": {
    "collapsed": false
   },
   "source": [
    "## 8 Referanser"
   ]
  },
  {
   "attachments": {},
   "cell_type": "markdown",
   "metadata": {},
   "source": [
    "- (22.03.2023) NTNU Fysikklab, https://home.phys.ntnu.no/ brukdef/undervisning/fyslab/index.html\n",
    "- J. A. Støvneng (22.03.2023), Ren rulling på krumt un- derlag – energibevarelse, https://home.phys.ntnu.no/brukdef/undervisning/fyslab/files/labligninger.pdf\n",
    "- M. B. Lilledahl, V. Risinggård (22.03.2023), Målinger og usik- kerhet, https://home.phys.ntnu.no/brukdef/undervisning/fyslab/files/usikkerhet.pdf\n",
    "- Douglas Brown (03.2023), Tracker (versjon 6.1.1), https:// physlets.org/tracker/"
   ]
  }
 ],
 "metadata": {
  "kernelspec": {
   "display_name": "venv",
   "language": "python",
   "name": "python3"
  },
  "language_info": {
   "codemirror_mode": {
    "name": "ipython",
    "version": 3
   },
   "file_extension": ".py",
   "mimetype": "text/x-python",
   "name": "python",
   "nbconvert_exporter": "python",
   "pygments_lexer": "ipython3",
   "version": "3.10.8"
  },
  "vscode": {
   "interpreter": {
    "hash": "f924a07468943f7b31a0b1e3c83fb10a458a9fb4263d31053fe4d15a6b19b800"
   }
  }
 },
 "nbformat": 4,
 "nbformat_minor": 0
}
