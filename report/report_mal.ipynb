{
 "cells": [
  {
   "cell_type": "markdown",
   "id": "65c88b08-8adf-4998-be6e-dd1a43db46c2",
   "metadata": {},
   "source": [
    "# Labrapport som Jupyter Notebook på fysikklab våren 2023\n",
    "Oskar Ryggetangen, Marte Høiskar og Jon Andreas Støvneng <br>\n",
    "Institutt for Fysikk, NTNU"
   ]
  },
  {
   "cell_type": "markdown",
   "id": "7792909c-f7e7-447d-9b3f-7ad73c4ac56c",
   "metadata": {},
   "source": [
    "\n",
    "## Sammendrag\n",
    "Sammendraget inneholder en konsis oppsummering av innholdet i oppgaven. Det kan være en god idé å skrive denne delen til slutt, når du har god oversikt over hele teksten. Typisk inneholder sammendraget 4-5 setninger. På disse få setningene skal førsøket introduseres, de eksperimentelle og numeriske metodene nevnes, og resultatene - og deres betydning - skal presenteres. Sentrale tallverdier oppgis med tilhørende usikkerhet.\n"
   ]
  },
  {
   "cell_type": "markdown",
   "id": "c768bc29-6c3b-4f31-b896-877254d81848",
   "metadata": {},
   "source": [
    "## Introduksjon\n",
    "Selve rapporten starter her. Introduksjonen bør inneholde en tydelig motivasjon og hensikt ved forsøket. Her kan også teksten settes i en historisk sammenheng. Det vil i så fall være natulig å referere til relevant litteratur.\n"
   ]
  },
  {
   "cell_type": "markdown",
   "id": "c776efaa-105e-4587-85d0-3e10778fda0b",
   "metadata": {},
   "source": [
    "## Teori\n",
    "Her presenteres relevant teori nødvendig for å lese resten av rapporten. Jupyter notebook støtter LaTeX-kode, så dere kan inkludere fint formaterte ligninger her. For eksempel har vi sett at baneakselerasjonen til ei kompakt kule som ruller på et krumt underlag uten å slure (gli) er gitt ved\n",
    "$$a = -\\frac{5g\\sin{\\beta}}{7},\\label{eq1}\\tag{1}$$\n",
    "der $g$ er tyngdens akselerasjon og $\\beta$ er banens helningsvinkel. Her forklarer vi alle nye størrelser som blir innført med ord. <br>\n",
    "For at dette skal ha god flyt, skal ligningene kunne leses som en naturlig del av setningen, slik som ovenfor. \n",
    "\n",
    "Teoridelen inneholder ikke referanser til selve forsøket. Den er generell og kan leses isolert fra resten av rapporten.\n",
    "\n",
    "Her vil det ofte være naturlig å inkludere en eller flere forklarende figurer. Disse skal dere lage selv, for eksempel ved hjelp av [Inkscape](https://inkscape.org/) som er et nokså brukervennlig program for å lage vektorgrafikk. Her er et eksempel på en slik figur:\n"
   ]
  },
  {
   "cell_type": "code",
   "execution_count": 31,
   "id": "c373cade-ba88-44b8-91be-b0401089572e",
   "metadata": {},
   "outputs": [
    {
     "ename": "FileNotFoundError",
     "evalue": "No such file or directory: './krefter.png'",
     "output_type": "error",
     "traceback": [
      "\u001b[1;31m---------------------------------------------------------------------------\u001b[0m",
      "\u001b[1;31mTypeError\u001b[0m                                 Traceback (most recent call last)",
      "File \u001b[1;32m~\\PycharmProjects\\TFY4106-Physics\\venv\\lib\\site-packages\\IPython\\core\\display.py:1045\u001b[0m, in \u001b[0;36mImage._data_and_metadata\u001b[1;34m(self, always_both)\u001b[0m\n\u001b[0;32m   1044\u001b[0m \u001b[38;5;28;01mtry\u001b[39;00m:\n\u001b[1;32m-> 1045\u001b[0m     b64_data \u001b[38;5;241m=\u001b[39m \u001b[43mb2a_base64\u001b[49m\u001b[43m(\u001b[49m\u001b[38;5;28;43mself\u001b[39;49m\u001b[38;5;241;43m.\u001b[39;49m\u001b[43mdata\u001b[49m\u001b[43m)\u001b[49m\u001b[38;5;241m.\u001b[39mdecode(\u001b[38;5;124m'\u001b[39m\u001b[38;5;124mascii\u001b[39m\u001b[38;5;124m'\u001b[39m)\n\u001b[0;32m   1046\u001b[0m \u001b[38;5;28;01mexcept\u001b[39;00m \u001b[38;5;167;01mTypeError\u001b[39;00m \u001b[38;5;28;01mas\u001b[39;00m e:\n",
      "\u001b[1;31mTypeError\u001b[0m: a bytes-like object is required, not 'str'",
      "\nThe above exception was the direct cause of the following exception:\n",
      "\u001b[1;31mFileNotFoundError\u001b[0m                         Traceback (most recent call last)",
      "File \u001b[1;32m~\\PycharmProjects\\TFY4106-Physics\\venv\\lib\\site-packages\\IPython\\core\\formatters.py:972\u001b[0m, in \u001b[0;36mMimeBundleFormatter.__call__\u001b[1;34m(self, obj, include, exclude)\u001b[0m\n\u001b[0;32m    969\u001b[0m     method \u001b[38;5;241m=\u001b[39m get_real_method(obj, \u001b[38;5;28mself\u001b[39m\u001b[38;5;241m.\u001b[39mprint_method)\n\u001b[0;32m    971\u001b[0m     \u001b[38;5;28;01mif\u001b[39;00m method \u001b[38;5;129;01mis\u001b[39;00m \u001b[38;5;129;01mnot\u001b[39;00m \u001b[38;5;28;01mNone\u001b[39;00m:\n\u001b[1;32m--> 972\u001b[0m         \u001b[38;5;28;01mreturn\u001b[39;00m \u001b[43mmethod\u001b[49m\u001b[43m(\u001b[49m\u001b[43minclude\u001b[49m\u001b[38;5;241;43m=\u001b[39;49m\u001b[43minclude\u001b[49m\u001b[43m,\u001b[49m\u001b[43m \u001b[49m\u001b[43mexclude\u001b[49m\u001b[38;5;241;43m=\u001b[39;49m\u001b[43mexclude\u001b[49m\u001b[43m)\u001b[49m\n\u001b[0;32m    973\u001b[0m     \u001b[38;5;28;01mreturn\u001b[39;00m \u001b[38;5;28;01mNone\u001b[39;00m\n\u001b[0;32m    974\u001b[0m \u001b[38;5;28;01melse\u001b[39;00m:\n",
      "File \u001b[1;32m~\\PycharmProjects\\TFY4106-Physics\\venv\\lib\\site-packages\\IPython\\core\\display.py:1035\u001b[0m, in \u001b[0;36mImage._repr_mimebundle_\u001b[1;34m(self, include, exclude)\u001b[0m\n\u001b[0;32m   1033\u001b[0m \u001b[38;5;28;01mif\u001b[39;00m \u001b[38;5;28mself\u001b[39m\u001b[38;5;241m.\u001b[39membed:\n\u001b[0;32m   1034\u001b[0m     mimetype \u001b[38;5;241m=\u001b[39m \u001b[38;5;28mself\u001b[39m\u001b[38;5;241m.\u001b[39m_mimetype\n\u001b[1;32m-> 1035\u001b[0m     data, metadata \u001b[38;5;241m=\u001b[39m \u001b[38;5;28;43mself\u001b[39;49m\u001b[38;5;241;43m.\u001b[39;49m\u001b[43m_data_and_metadata\u001b[49m\u001b[43m(\u001b[49m\u001b[43malways_both\u001b[49m\u001b[38;5;241;43m=\u001b[39;49m\u001b[38;5;28;43;01mTrue\u001b[39;49;00m\u001b[43m)\u001b[49m\n\u001b[0;32m   1036\u001b[0m     \u001b[38;5;28;01mif\u001b[39;00m metadata:\n\u001b[0;32m   1037\u001b[0m         metadata \u001b[38;5;241m=\u001b[39m {mimetype: metadata}\n",
      "File \u001b[1;32m~\\PycharmProjects\\TFY4106-Physics\\venv\\lib\\site-packages\\IPython\\core\\display.py:1047\u001b[0m, in \u001b[0;36mImage._data_and_metadata\u001b[1;34m(self, always_both)\u001b[0m\n\u001b[0;32m   1045\u001b[0m     b64_data \u001b[38;5;241m=\u001b[39m b2a_base64(\u001b[38;5;28mself\u001b[39m\u001b[38;5;241m.\u001b[39mdata)\u001b[38;5;241m.\u001b[39mdecode(\u001b[38;5;124m'\u001b[39m\u001b[38;5;124mascii\u001b[39m\u001b[38;5;124m'\u001b[39m)\n\u001b[0;32m   1046\u001b[0m \u001b[38;5;28;01mexcept\u001b[39;00m \u001b[38;5;167;01mTypeError\u001b[39;00m \u001b[38;5;28;01mas\u001b[39;00m e:\n\u001b[1;32m-> 1047\u001b[0m     \u001b[38;5;28;01mraise\u001b[39;00m \u001b[38;5;167;01mFileNotFoundError\u001b[39;00m(\n\u001b[0;32m   1048\u001b[0m         \u001b[38;5;124m\"\u001b[39m\u001b[38;5;124mNo such file or directory: \u001b[39m\u001b[38;5;124m'\u001b[39m\u001b[38;5;132;01m%s\u001b[39;00m\u001b[38;5;124m'\u001b[39m\u001b[38;5;124m\"\u001b[39m \u001b[38;5;241m%\u001b[39m (\u001b[38;5;28mself\u001b[39m\u001b[38;5;241m.\u001b[39mdata)) \u001b[38;5;28;01mfrom\u001b[39;00m \u001b[38;5;21;01me\u001b[39;00m\n\u001b[0;32m   1049\u001b[0m md \u001b[38;5;241m=\u001b[39m {}\n\u001b[0;32m   1050\u001b[0m \u001b[38;5;28;01mif\u001b[39;00m \u001b[38;5;28mself\u001b[39m\u001b[38;5;241m.\u001b[39mmetadata:\n",
      "\u001b[1;31mFileNotFoundError\u001b[0m: No such file or directory: './krefter.png'"
     ]
    },
    {
     "ename": "FileNotFoundError",
     "evalue": "No such file or directory: './krefter.png'",
     "output_type": "error",
     "traceback": [
      "\u001b[1;31m---------------------------------------------------------------------------\u001b[0m",
      "\u001b[1;31mTypeError\u001b[0m                                 Traceback (most recent call last)",
      "File \u001b[1;32m~\\PycharmProjects\\TFY4106-Physics\\venv\\lib\\site-packages\\IPython\\core\\display.py:1045\u001b[0m, in \u001b[0;36mImage._data_and_metadata\u001b[1;34m(self, always_both)\u001b[0m\n\u001b[0;32m   1044\u001b[0m \u001b[38;5;28;01mtry\u001b[39;00m:\n\u001b[1;32m-> 1045\u001b[0m     b64_data \u001b[38;5;241m=\u001b[39m \u001b[43mb2a_base64\u001b[49m\u001b[43m(\u001b[49m\u001b[38;5;28;43mself\u001b[39;49m\u001b[38;5;241;43m.\u001b[39;49m\u001b[43mdata\u001b[49m\u001b[43m)\u001b[49m\u001b[38;5;241m.\u001b[39mdecode(\u001b[38;5;124m'\u001b[39m\u001b[38;5;124mascii\u001b[39m\u001b[38;5;124m'\u001b[39m)\n\u001b[0;32m   1046\u001b[0m \u001b[38;5;28;01mexcept\u001b[39;00m \u001b[38;5;167;01mTypeError\u001b[39;00m \u001b[38;5;28;01mas\u001b[39;00m e:\n",
      "\u001b[1;31mTypeError\u001b[0m: a bytes-like object is required, not 'str'",
      "\nThe above exception was the direct cause of the following exception:\n",
      "\u001b[1;31mFileNotFoundError\u001b[0m                         Traceback (most recent call last)",
      "File \u001b[1;32m~\\PycharmProjects\\TFY4106-Physics\\venv\\lib\\site-packages\\IPython\\core\\formatters.py:342\u001b[0m, in \u001b[0;36mBaseFormatter.__call__\u001b[1;34m(self, obj)\u001b[0m\n\u001b[0;32m    340\u001b[0m     method \u001b[38;5;241m=\u001b[39m get_real_method(obj, \u001b[38;5;28mself\u001b[39m\u001b[38;5;241m.\u001b[39mprint_method)\n\u001b[0;32m    341\u001b[0m     \u001b[38;5;28;01mif\u001b[39;00m method \u001b[38;5;129;01mis\u001b[39;00m \u001b[38;5;129;01mnot\u001b[39;00m \u001b[38;5;28;01mNone\u001b[39;00m:\n\u001b[1;32m--> 342\u001b[0m         \u001b[38;5;28;01mreturn\u001b[39;00m \u001b[43mmethod\u001b[49m\u001b[43m(\u001b[49m\u001b[43m)\u001b[49m\n\u001b[0;32m    343\u001b[0m     \u001b[38;5;28;01mreturn\u001b[39;00m \u001b[38;5;28;01mNone\u001b[39;00m\n\u001b[0;32m    344\u001b[0m \u001b[38;5;28;01melse\u001b[39;00m:\n",
      "File \u001b[1;32m~\\PycharmProjects\\TFY4106-Physics\\venv\\lib\\site-packages\\IPython\\core\\display.py:1067\u001b[0m, in \u001b[0;36mImage._repr_png_\u001b[1;34m(self)\u001b[0m\n\u001b[0;32m   1065\u001b[0m \u001b[38;5;28;01mdef\u001b[39;00m \u001b[38;5;21m_repr_png_\u001b[39m(\u001b[38;5;28mself\u001b[39m):\n\u001b[0;32m   1066\u001b[0m     \u001b[38;5;28;01mif\u001b[39;00m \u001b[38;5;28mself\u001b[39m\u001b[38;5;241m.\u001b[39membed \u001b[38;5;129;01mand\u001b[39;00m \u001b[38;5;28mself\u001b[39m\u001b[38;5;241m.\u001b[39mformat \u001b[38;5;241m==\u001b[39m \u001b[38;5;28mself\u001b[39m\u001b[38;5;241m.\u001b[39m_FMT_PNG:\n\u001b[1;32m-> 1067\u001b[0m         \u001b[38;5;28;01mreturn\u001b[39;00m \u001b[38;5;28;43mself\u001b[39;49m\u001b[38;5;241;43m.\u001b[39;49m\u001b[43m_data_and_metadata\u001b[49m\u001b[43m(\u001b[49m\u001b[43m)\u001b[49m\n",
      "File \u001b[1;32m~\\PycharmProjects\\TFY4106-Physics\\venv\\lib\\site-packages\\IPython\\core\\display.py:1047\u001b[0m, in \u001b[0;36mImage._data_and_metadata\u001b[1;34m(self, always_both)\u001b[0m\n\u001b[0;32m   1045\u001b[0m     b64_data \u001b[38;5;241m=\u001b[39m b2a_base64(\u001b[38;5;28mself\u001b[39m\u001b[38;5;241m.\u001b[39mdata)\u001b[38;5;241m.\u001b[39mdecode(\u001b[38;5;124m'\u001b[39m\u001b[38;5;124mascii\u001b[39m\u001b[38;5;124m'\u001b[39m)\n\u001b[0;32m   1046\u001b[0m \u001b[38;5;28;01mexcept\u001b[39;00m \u001b[38;5;167;01mTypeError\u001b[39;00m \u001b[38;5;28;01mas\u001b[39;00m e:\n\u001b[1;32m-> 1047\u001b[0m     \u001b[38;5;28;01mraise\u001b[39;00m \u001b[38;5;167;01mFileNotFoundError\u001b[39;00m(\n\u001b[0;32m   1048\u001b[0m         \u001b[38;5;124m\"\u001b[39m\u001b[38;5;124mNo such file or directory: \u001b[39m\u001b[38;5;124m'\u001b[39m\u001b[38;5;132;01m%s\u001b[39;00m\u001b[38;5;124m'\u001b[39m\u001b[38;5;124m\"\u001b[39m \u001b[38;5;241m%\u001b[39m (\u001b[38;5;28mself\u001b[39m\u001b[38;5;241m.\u001b[39mdata)) \u001b[38;5;28;01mfrom\u001b[39;00m \u001b[38;5;21;01me\u001b[39;00m\n\u001b[0;32m   1049\u001b[0m md \u001b[38;5;241m=\u001b[39m {}\n\u001b[0;32m   1050\u001b[0m \u001b[38;5;28;01mif\u001b[39;00m \u001b[38;5;28mself\u001b[39m\u001b[38;5;241m.\u001b[39mmetadata:\n",
      "\u001b[1;31mFileNotFoundError\u001b[0m: No such file or directory: './krefter.png'"
     ]
    },
    {
     "data": {
      "text/plain": [
       "<IPython.core.display.Image object>"
      ]
     },
     "execution_count": 31,
     "metadata": {},
     "output_type": "execute_result"
    }
   ],
   "source": [
    "from IPython import display\n",
    "display.Image(\"./krefter.png\", width=300)"
   ]
  },
  {
   "cell_type": "markdown",
   "id": "40908728-1448-461d-828e-04e90cc53e53",
   "metadata": {},
   "source": [
    "<b>Figur 1.</b> Kule som ruller på et krumt underlag. Her er $v$ kulas fart,\n",
    "$a$ er baneakselerasjon, $a_\\perp$ er sentripetalakselerasjon, $Mg$ er tyngdekraft,\n",
    "$f$ er friksjonskraft og $N$ er normalkraft. <br><br>"
   ]
  },
  {
   "cell_type": "markdown",
   "metadata": {
    "collapsed": false
   },
   "source": [
    "## Metode\n",
    "\n",
    "Utstyrsliste:\n",
    "* Stativ med skruefester\n",
    "* Baneskive\n",
    "* Kamerastativ\n",
    "* Mobiltelefon (som kamera)\n",
    "* Linjal\n",
    "* Kule\n",
    "\n",
    "Prosjektet var todelt, først beregnet vi hastighet og posisjon numerisk, og deretter ekseperimentelt. Til slutt sammenlignet vi resultater. Den numeriske metoden fungerte slik at vi genererte baneformen ved bruk av tredjegradspolynomer på intervaller mellom åtte tilfeldig valgte skruefestehøyder. På denne måten er banen, og dens første- og andrederiverte kontinuerlige i festene. Dette gjøres i Python ved bruk av CubicSpline-funksjonen fra SciPy-biblioteket interpolate slik: \n",
    "\n",
    "cs = CubicSpline(xfast,yfast,bc_type='natural') \n",
    "\n",
    "Der xfast er tabeller med horisontale koordinater og yfast er tabeller med vertikale koordinater. bx_type='natural' gjør krumning lik null i de to ytterste skruefestene. \n",
    "\n",
    "Kulen i forsøket hadde en oppgitt masse på 31 gram, og en diameter på 10 mm. Kulen hadde en overflate av gummi. Vi antok kulen som kompakt med en uniform massefordeling, som resulterer i en c = 2/5. Baneskiven var 1400 mm."
   ]
  },
  {
   "cell_type": "markdown",
   "metadata": {
    "collapsed": false
   },
   "source": [
    "## Metode\n",
    "\n",
    "Utstyrsliste:\n",
    "- Stativ med skruefester\n",
    "- Baneskive\n",
    "- Kamerastativ\n",
    "- Mobiltelefon (som kamera)\n",
    "- Linjal\n",
    "- Kule\n",
    "\n",
    "Prosjektet var todelt, først beregnet vi hastighet og posisjon numerisk, og deretter ekseperimentelt. Til slutt sammenlignet vi resultater. Den numeriske metoden fungerte slik at vi genererte baneformen ved bruk av tredjegradspolynomer på intervaller mellom åtte tilfeldig valgte skruefestehøyder. På denne måten er banen, og dens første- og andrederiverte kontinuerlige i festene. Dette gjøres i Python ved bruk av CubicSpline-funksjonen fra SciPy-biblioteket interpolate slik:\n",
    "\n",
    "cs = CubicSpline(xfast,yfast,bc_type='natural')\n",
    "\n",
    "Der xfast er tabeller med horisontale koordinater og yfast er tabeller med vertikale koordinater. bx_type='natural' gjør krumning lik null i de to ytterste skruefestene.\n",
    "\n",
    "Kulen i forsøket hadde en oppgitt masse på 31 gram, og en diameter på 10 mm. Kulen hadde en overflate av gummi. Vi antok kulen som kompakt med en uniform massefordeling, som resulterer i en c = 2/5. Baneskiven var 1400 mm."
   ]
  },
  {
   "cell_type": "markdown",
   "id": "83eb3a17-390a-4499-aab6-0c8ab569096e",
   "metadata": {},
   "source": [
    "Deretter vil den konkrete <i>bruken</i> av funksjonen *CubicSpline* komme\n",
    "i Resultat-avsnittet.\n"
   ]
  },
  {
   "cell_type": "markdown",
   "id": "f152717b-9c73-464c-8bcc-4d5368ab8cf9",
   "metadata": {},
   "source": [
    "## Resultater\n",
    "Her presenteres numeriske og eksperimentelle resultater. Dere inkluderer figurer i henhold til rapportkravene, samt tallverdier for kulas rulletid, slutthastighet, tilhørende kinetisk energi, og tap i mekanisk energi, med tilhørende usikkerhet. Anvendt pythonkode inngår naturlig her. En må forvente at dette avsnittet opptar størst plass i rapporten. "
   ]
  },
  {
   "cell_type": "markdown",
   "id": "36daaacf-50d3-4562-97f8-ed9c1cd58dff",
   "metadata": {},
   "source": [
    "## Diskusjon\n",
    "Her diskuteres resultatene, både de numeriske og de eksperimentelle. <br>\n",
    "\n",
    "- Kan forskjellene mellom numerisk og eksperimentell hastighet $v(x)$ forklares med utgangspunkt i\n",
    "forskjellene mellom numerisk og eksperimentell baneform $y(x)$?\n",
    "- Er grafene for $v(x)$, $N(x)$ og $f(x)$ rimelige med utgangspunkt i baneformen $y(x)$? \n",
    "Vurder spesielt topp-punkt, bunnpunkt(er) og vendepunkter.\n",
    "- Er det sannsynlig at baneformen gir ren rulling? Dette avhenger av at beregnet friksjonskraft hele veien er mindre enn maksimal statisk friksjonskraft, som er gitt ved $\\mu_s N$. Grafen for $|f(x)/N(x)|$ gir grunnlag for å diskutere dette.\n",
    "- Er målt rulletid rimelig, med utgangspunkt i beregnet rulletid?\n",
    "- Er målt tap i mekanisk energi rimelig? Diskuter feilkilder."
   ]
  },
  {
   "cell_type": "markdown",
   "id": "18d783c0-3fdc-496a-9e3c-2c9643c8ea24",
   "metadata": {},
   "source": [
    "## Konklusjon\n",
    "Dette er en kort oppsummering av det som ble gjort og hvilke resultater som ble oppnådd. Tallverdier for numerisk vs eksperimentell rulletid og sluttfart oppgis, samt tap i mekanisk energi med usikkerhet. "
   ]
  },
  {
   "cell_type": "markdown",
   "id": "20c04579-d9f8-4c44-9d61-16430a1df4ed",
   "metadata": {},
   "source": [
    "## Referanser\n",
    "En labrapport som denne vil typisk inneholde et *lite* antall referanser. Av den grunn\n",
    "er det greit å nummerere disse manuelt. Hvis du sjekker ulike\n",
    "tidsskrifter, vil du se at ulike konvensjoner for formatering av referanser benyttes.\n",
    "Det viktige er at referanselista formateres systematisk. Nedenfor viser vi eksempler på\n",
    "henvisning til tidsskriftartikler, bok og url, med formatering\n",
    "som benyttet i tidsskriftet Physical Review Letters: <br>\n",
    "\n",
    "[1] D. Xiao, W. Yao, and Q. Niu, Valley-Contrasting Physics in Graphene: Magnetic Moment and Topological Transport, Phys. Rev. Lett. <b>99</b>, 236809 (2007).  <br>\n",
    "\n",
    "[2] D. Xiao, M.-C. Chang, and Q. Niu, Berry phase effects on electronic properties, \n",
    "Rev. Mod. Phys. <b>82</b>, 1959 (2010).  <br>\n",
    "\n",
    "[3] T. Ihn, <i>Semiconductor Nanostructures: Quantum States and\n",
    "Electronic Transport</i> (Oxford University Press, New York,\n",
    "2010). <br>\n",
    "\n",
    "[4] See Supplemental Materials at\n",
    "<a href=\"http://link.aps.org/supplemental/10.1103/PhysRevLett.128.067702\">\n",
    "link.aps.org/supplemental/10.1103/PhysRevLett.128.067702</a>.\n",
    "<br><br>\n",
    "\n",
    "Til sammenligning, et par referanser fra en artikkel i Chemical Reviews: <br>\n",
    "\n",
    "(1) Ayyagari, A. V.; Gwalani, B.; Muskeri, S.; Mukherjee, S.;\n",
    "Banerjee, R. Surface degradation mechanisms in precipitationhardened high-entropy alloys. *npj Materials Degradation* <b>2018</b>, *2*, 33.  <br>\n",
    "(2) Frankel, G. S.; Vienna, J. D.; Lian, J.; Scully, J. R.; Gin, S.; Ryan,\n",
    "J. V.; Wang, J.; Kim, S. H.; Windl, W.; Du, J. A comparative review of\n",
    "the aqueous corrosion of glasses, crystalline ceramics, and metals. *npj\n",
    "Materials Degradation* <b>2018</b>, *2*, 15. <br>\n",
    "\n",
    "Små, men *mange* forskjeller: type parentes i referansenummeret; plassering, parentesbruk og \n",
    "font for årstall; plassering av forbokstav i fornavn; *and* eller ikke *and* foran sistnevnte \n",
    "av tre eller flere forfattere. Ubetydelige valg i seg selv, men viktig at alt gjøres *systematisk*.\n"
   ]
  }
 ],
 "metadata": {
  "kernelspec": {
   "display_name": "Python 3 (ipykernel)",
   "language": "python",
   "name": "python3"
  },
  "language_info": {
   "codemirror_mode": {
    "name": "ipython",
    "version": 3
   },
   "file_extension": ".py",
   "mimetype": "text/x-python",
   "name": "python",
   "nbconvert_exporter": "python",
   "pygments_lexer": "ipython3",
   "version": "3.10.8"
  }
 },
 "nbformat": 4,
 "nbformat_minor": 5
}
